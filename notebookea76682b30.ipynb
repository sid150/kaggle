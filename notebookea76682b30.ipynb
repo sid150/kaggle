{
  "metadata": {
    "kernelspec": {
      "language": "python",
      "display_name": "Python 3",
      "name": "python3"
    },
    "language_info": {
      "name": "python",
      "version": "3.10.14",
      "mimetype": "text/x-python",
      "codemirror_mode": {
        "name": "ipython",
        "version": 3
      },
      "pygments_lexer": "ipython3",
      "nbconvert_exporter": "python",
      "file_extension": ".py"
    },
    "kaggle": {
      "accelerator": "none",
      "dataSources": [
        {
          "sourceId": 3136,
          "databundleVersionId": 26502,
          "sourceType": "competition"
        }
      ],
      "dockerImageVersionId": 30786,
      "isInternetEnabled": false,
      "language": "python",
      "sourceType": "notebook",
      "isGpuEnabled": false
    },
    "colab": {
      "name": "notebookea76682b30",
      "provenance": [],
      "include_colab_link": true
    }
  },
  "nbformat_minor": 0,
  "nbformat": 4,
  "cells": [
    {
      "cell_type": "markdown",
      "metadata": {
        "id": "view-in-github",
        "colab_type": "text"
      },
      "source": [
        "<a href=\"https://colab.research.google.com/github/sid150/kaggle/blob/main/notebookea76682b30.ipynb\" target=\"_parent\"><img src=\"https://colab.research.google.com/assets/colab-badge.svg\" alt=\"Open In Colab\"/></a>"
      ]
    },
    {
      "source": [
        "# IMPORTANT: SOME KAGGLE DATA SOURCES ARE PRIVATE\n",
        "# RUN THIS CELL IN ORDER TO IMPORT YOUR KAGGLE DATA SOURCES.\n",
        "import kagglehub\n",
        "kagglehub.login()\n"
      ],
      "metadata": {
        "id": "9QyE9x9YVdqz"
      },
      "cell_type": "code",
      "outputs": [],
      "execution_count": null
    },
    {
      "source": [
        "# IMPORTANT: RUN THIS CELL IN ORDER TO IMPORT YOUR KAGGLE DATA SOURCES,\n",
        "# THEN FEEL FREE TO DELETE THIS CELL.\n",
        "# NOTE: THIS NOTEBOOK ENVIRONMENT DIFFERS FROM KAGGLE'S PYTHON\n",
        "# ENVIRONMENT SO THERE MAY BE MISSING LIBRARIES USED BY YOUR\n",
        "# NOTEBOOK.\n",
        "\n",
        "titanic_path = kagglehub.competition_download('titanic')\n",
        "\n",
        "print('Data source import complete.')\n"
      ],
      "metadata": {
        "id": "RJP8c_AhVdq0"
      },
      "cell_type": "code",
      "outputs": [],
      "execution_count": null
    },
    {
      "cell_type": "code",
      "source": [
        "# This Python 3 environment comes with many helpful analytics libraries installed\n",
        "# It is defined by the kaggle/python Docker image: https://github.com/kaggle/docker-python\n",
        "# For example, here's several helpful packages to load\n",
        "\n",
        "import numpy as np # linear algebra\n",
        "import pandas as pd # data processing, CSV file I/O (e.g. pd.read_csv)\n",
        "\n",
        "# Input data files are available in the read-only \"../input/\" directory\n",
        "# For example, running this (by clicking run or pressing Shift+Enter) will list all files under the input directory\n",
        "\n",
        "import os\n",
        "for dirname, _, filenames in os.walk('/kaggle/input'):\n",
        "    for filename in filenames:\n",
        "        print(os.path.join(dirname, filename))\n",
        "\n",
        "# You can write up to 20GB to the current directory (/kaggle/working/) that gets preserved as output when you create a version using \"Save & Run All\"\n",
        "# You can also write temporary files to /kaggle/temp/, but they won't be saved outside of the current session"
      ],
      "metadata": {
        "_uuid": "8f2839f25d086af736a60e9eeb907d3b93b6e0e5",
        "_cell_guid": "b1076dfc-b9ad-4769-8c92-a6c4dae69d19",
        "execution": {
          "iopub.status.busy": "2024-10-17T01:34:14.027243Z",
          "iopub.execute_input": "2024-10-17T01:34:14.027928Z",
          "iopub.status.idle": "2024-10-17T01:34:14.039932Z",
          "shell.execute_reply.started": "2024-10-17T01:34:14.027869Z",
          "shell.execute_reply": "2024-10-17T01:34:14.038281Z"
        },
        "trusted": true,
        "id": "TOk5BXExVdq0"
      },
      "execution_count": null,
      "outputs": []
    },
    {
      "cell_type": "code",
      "source": [
        "df = pd.read_csv(\"/kaggle/input/titanic/train.csv\")\n",
        "df.head()"
      ],
      "metadata": {
        "execution": {
          "iopub.status.busy": "2024-10-17T01:34:14.04314Z",
          "iopub.execute_input": "2024-10-17T01:34:14.043632Z",
          "iopub.status.idle": "2024-10-17T01:34:14.077083Z",
          "shell.execute_reply.started": "2024-10-17T01:34:14.043587Z",
          "shell.execute_reply": "2024-10-17T01:34:14.075617Z"
        },
        "trusted": true,
        "id": "1bmkGm6tVdq0"
      },
      "execution_count": null,
      "outputs": []
    },
    {
      "cell_type": "code",
      "source": [
        "df_test = pd.read_csv(\"/kaggle/input/titanic/test.csv\")\n",
        "df_test.head()"
      ],
      "metadata": {
        "execution": {
          "iopub.status.busy": "2024-10-17T01:34:14.078835Z",
          "iopub.execute_input": "2024-10-17T01:34:14.079261Z",
          "iopub.status.idle": "2024-10-17T01:34:14.106367Z",
          "shell.execute_reply.started": "2024-10-17T01:34:14.079217Z",
          "shell.execute_reply": "2024-10-17T01:34:14.104813Z"
        },
        "trusted": true,
        "id": "JCvp8AeUVdq0"
      },
      "execution_count": null,
      "outputs": []
    },
    {
      "cell_type": "code",
      "source": [
        "df.columns"
      ],
      "metadata": {
        "execution": {
          "iopub.status.busy": "2024-10-17T01:34:14.108509Z",
          "iopub.execute_input": "2024-10-17T01:34:14.10903Z",
          "iopub.status.idle": "2024-10-17T01:34:14.11961Z",
          "shell.execute_reply.started": "2024-10-17T01:34:14.108973Z",
          "shell.execute_reply": "2024-10-17T01:34:14.11792Z"
        },
        "trusted": true,
        "id": "XU5zAf57Vdq0"
      },
      "execution_count": null,
      "outputs": []
    },
    {
      "cell_type": "code",
      "source": [
        "df.duplicated().sum()"
      ],
      "metadata": {
        "execution": {
          "iopub.status.busy": "2024-10-17T01:34:14.124493Z",
          "iopub.execute_input": "2024-10-17T01:34:14.125767Z",
          "iopub.status.idle": "2024-10-17T01:34:14.143256Z",
          "shell.execute_reply.started": "2024-10-17T01:34:14.125692Z",
          "shell.execute_reply": "2024-10-17T01:34:14.140445Z"
        },
        "trusted": true,
        "id": "kzzoxF_IVdq0"
      },
      "execution_count": null,
      "outputs": []
    },
    {
      "cell_type": "code",
      "source": [
        "df.isnull().sum()"
      ],
      "metadata": {
        "execution": {
          "iopub.status.busy": "2024-10-17T01:34:14.145909Z",
          "iopub.execute_input": "2024-10-17T01:34:14.146494Z",
          "iopub.status.idle": "2024-10-17T01:34:14.163198Z",
          "shell.execute_reply.started": "2024-10-17T01:34:14.146411Z",
          "shell.execute_reply": "2024-10-17T01:34:14.1619Z"
        },
        "trusted": true,
        "id": "qlCMJ2RoVdq0"
      },
      "execution_count": null,
      "outputs": []
    },
    {
      "cell_type": "code",
      "source": [
        "\n",
        "df[\"Age\"].isnull().sum()\n"
      ],
      "metadata": {
        "execution": {
          "iopub.status.busy": "2024-10-17T01:34:14.165054Z",
          "iopub.execute_input": "2024-10-17T01:34:14.16563Z",
          "iopub.status.idle": "2024-10-17T01:34:14.186368Z",
          "shell.execute_reply.started": "2024-10-17T01:34:14.165561Z",
          "shell.execute_reply": "2024-10-17T01:34:14.184867Z"
        },
        "trusted": true,
        "id": "9MUJXOnaVdq0"
      },
      "execution_count": null,
      "outputs": []
    },
    {
      "cell_type": "code",
      "source": [
        "avg_age=df[\"Age\"].mean()\n",
        "df[\"Age\"]=df[\"Age\"].fillna(avg_age)"
      ],
      "metadata": {
        "execution": {
          "iopub.status.busy": "2024-10-17T01:34:14.188255Z",
          "iopub.execute_input": "2024-10-17T01:34:14.188779Z",
          "iopub.status.idle": "2024-10-17T01:34:14.204757Z",
          "shell.execute_reply.started": "2024-10-17T01:34:14.188715Z",
          "shell.execute_reply": "2024-10-17T01:34:14.202579Z"
        },
        "trusted": true,
        "id": "ddCSu5OLVdq1"
      },
      "execution_count": null,
      "outputs": []
    },
    {
      "cell_type": "code",
      "source": [
        "df=df.drop(columns=['PassengerId', 'Name', 'SibSp',\n",
        "       'Parch', 'Ticket', 'Fare', 'Cabin', 'Embarked'])\n"
      ],
      "metadata": {
        "execution": {
          "iopub.status.busy": "2024-10-17T01:34:14.207719Z",
          "iopub.execute_input": "2024-10-17T01:34:14.208326Z",
          "iopub.status.idle": "2024-10-17T01:34:14.216388Z",
          "shell.execute_reply.started": "2024-10-17T01:34:14.208267Z",
          "shell.execute_reply": "2024-10-17T01:34:14.215259Z"
        },
        "trusted": true,
        "id": "ioFRBknUVdq1"
      },
      "execution_count": null,
      "outputs": []
    },
    {
      "cell_type": "code",
      "source": [
        "\n",
        "\n",
        "\n",
        "grouped = df.groupby(['Pclass', 'Survived']).size().unstack()\n",
        "grouped.plot(kind=\"bar\")\n",
        "percentages = grouped.div(grouped.sum(axis=1), axis=0)\n"
      ],
      "metadata": {
        "execution": {
          "iopub.status.busy": "2024-10-17T01:34:14.217772Z",
          "iopub.execute_input": "2024-10-17T01:34:14.218565Z",
          "iopub.status.idle": "2024-10-17T01:34:14.477267Z",
          "shell.execute_reply.started": "2024-10-17T01:34:14.218503Z",
          "shell.execute_reply": "2024-10-17T01:34:14.47577Z"
        },
        "trusted": true,
        "id": "NrVK05rXVdq1"
      },
      "execution_count": null,
      "outputs": []
    },
    {
      "cell_type": "code",
      "source": [
        "genders=df.groupby([\"Sex\",\"Survived\"]).size().unstack()\n",
        "genders.plot(kind=\"bar\")\n",
        "gender_percent=genders.div(genders.sum(axis=1), axis=0)\n",
        "print(gender_percent)"
      ],
      "metadata": {
        "execution": {
          "iopub.status.busy": "2024-10-17T01:34:14.47901Z",
          "iopub.execute_input": "2024-10-17T01:34:14.479412Z",
          "iopub.status.idle": "2024-10-17T01:34:14.781782Z",
          "shell.execute_reply.started": "2024-10-17T01:34:14.47936Z",
          "shell.execute_reply": "2024-10-17T01:34:14.780156Z"
        },
        "trusted": true,
        "id": "lpwEc82nVdq1"
      },
      "execution_count": null,
      "outputs": []
    },
    {
      "cell_type": "code",
      "source": [
        "df_test=df_test.drop(columns=['PassengerId', 'Name', 'SibSp',\n",
        "       'Parch', 'Ticket', 'Fare', 'Cabin', 'Embarked'])\n",
        "df_test"
      ],
      "metadata": {
        "execution": {
          "iopub.status.busy": "2024-10-17T01:34:14.784325Z",
          "iopub.execute_input": "2024-10-17T01:34:14.784853Z",
          "iopub.status.idle": "2024-10-17T01:34:14.802539Z",
          "shell.execute_reply.started": "2024-10-17T01:34:14.784796Z",
          "shell.execute_reply": "2024-10-17T01:34:14.800842Z"
        },
        "trusted": true,
        "id": "hjC_CzhcVdq1"
      },
      "execution_count": null,
      "outputs": []
    },
    {
      "cell_type": "code",
      "source": [
        "df_test.isnull().sum()"
      ],
      "metadata": {
        "execution": {
          "iopub.status.busy": "2024-10-17T01:34:14.804909Z",
          "iopub.execute_input": "2024-10-17T01:34:14.805415Z",
          "iopub.status.idle": "2024-10-17T01:34:14.817532Z",
          "shell.execute_reply.started": "2024-10-17T01:34:14.805359Z",
          "shell.execute_reply": "2024-10-17T01:34:14.816262Z"
        },
        "trusted": true,
        "id": "_72Y02oTVdq1"
      },
      "execution_count": null,
      "outputs": []
    },
    {
      "cell_type": "code",
      "source": [
        "avg_age=df_test[\"Age\"].mean()\n",
        "df_test[\"Age\"]=df_test[\"Age\"].fillna(avg_age)"
      ],
      "metadata": {
        "execution": {
          "iopub.status.busy": "2024-10-17T01:34:14.823323Z",
          "iopub.execute_input": "2024-10-17T01:34:14.823741Z",
          "iopub.status.idle": "2024-10-17T01:34:14.832374Z",
          "shell.execute_reply.started": "2024-10-17T01:34:14.823699Z",
          "shell.execute_reply": "2024-10-17T01:34:14.830715Z"
        },
        "trusted": true,
        "id": "FLRZR704Vdq1"
      },
      "execution_count": null,
      "outputs": []
    },
    {
      "cell_type": "code",
      "source": [
        "df_test=pd.get_dummies(df_test)\n",
        "df_test"
      ],
      "metadata": {
        "execution": {
          "iopub.status.busy": "2024-10-17T01:34:14.834348Z",
          "iopub.execute_input": "2024-10-17T01:34:14.834872Z",
          "iopub.status.idle": "2024-10-17T01:34:14.862821Z",
          "shell.execute_reply.started": "2024-10-17T01:34:14.834815Z",
          "shell.execute_reply": "2024-10-17T01:34:14.861501Z"
        },
        "trusted": true,
        "id": "dHcmltHPVdq1"
      },
      "execution_count": null,
      "outputs": []
    },
    {
      "cell_type": "code",
      "source": [
        "\n",
        "df = pd.get_dummies(df)\n",
        "df"
      ],
      "metadata": {
        "execution": {
          "iopub.status.busy": "2024-10-17T01:34:14.864495Z",
          "iopub.execute_input": "2024-10-17T01:34:14.864901Z",
          "iopub.status.idle": "2024-10-17T01:34:14.885569Z",
          "shell.execute_reply.started": "2024-10-17T01:34:14.864858Z",
          "shell.execute_reply": "2024-10-17T01:34:14.884285Z"
        },
        "trusted": true,
        "id": "MdiTEQ8dVdq1"
      },
      "execution_count": null,
      "outputs": []
    },
    {
      "cell_type": "code",
      "source": [
        "X_train=df.iloc[:len(df),1:]\n",
        "X_train\n"
      ],
      "metadata": {
        "execution": {
          "iopub.status.busy": "2024-10-17T01:34:14.887151Z",
          "iopub.execute_input": "2024-10-17T01:34:14.887596Z",
          "iopub.status.idle": "2024-10-17T01:34:14.904534Z",
          "shell.execute_reply.started": "2024-10-17T01:34:14.887543Z",
          "shell.execute_reply": "2024-10-17T01:34:14.903191Z"
        },
        "trusted": true,
        "id": "q_nHy829Vdq1"
      },
      "execution_count": null,
      "outputs": []
    },
    {
      "cell_type": "code",
      "source": [
        "Y_train=df.iloc[:len(df),0]\n",
        "Y_train"
      ],
      "metadata": {
        "execution": {
          "iopub.status.busy": "2024-10-17T01:34:14.906065Z",
          "iopub.execute_input": "2024-10-17T01:34:14.906502Z",
          "iopub.status.idle": "2024-10-17T01:34:14.919612Z",
          "shell.execute_reply.started": "2024-10-17T01:34:14.906459Z",
          "shell.execute_reply": "2024-10-17T01:34:14.918396Z"
        },
        "trusted": true,
        "id": "viw86XUnVdq1"
      },
      "execution_count": null,
      "outputs": []
    },
    {
      "cell_type": "code",
      "source": [
        "X_test=df_test.iloc[:len(df_test),]\n",
        "X_test"
      ],
      "metadata": {
        "execution": {
          "iopub.status.busy": "2024-10-17T01:34:14.921785Z",
          "iopub.execute_input": "2024-10-17T01:34:14.922277Z",
          "iopub.status.idle": "2024-10-17T01:34:14.950697Z",
          "shell.execute_reply.started": "2024-10-17T01:34:14.92222Z",
          "shell.execute_reply": "2024-10-17T01:34:14.949456Z"
        },
        "trusted": true,
        "id": "OlUJy1RKVdq1"
      },
      "execution_count": null,
      "outputs": []
    },
    {
      "cell_type": "code",
      "source": [
        "from sklearn.svm import SVC\n",
        "from sklearn.model_selection import cross_val_score\n",
        "from sklearn.metrics import confusion_matrix, accuracy_score\n",
        "SVM_model=SVC(C=200, kernel='rbf')\n",
        "SVM_model.fit(X_train,Y_train)\n",
        "SVM_model.score(X_train,Y_train)"
      ],
      "metadata": {
        "execution": {
          "iopub.status.busy": "2024-10-17T01:34:14.952881Z",
          "iopub.execute_input": "2024-10-17T01:34:14.953432Z",
          "iopub.status.idle": "2024-10-17T01:34:15.077137Z",
          "shell.execute_reply.started": "2024-10-17T01:34:14.953379Z",
          "shell.execute_reply": "2024-10-17T01:34:15.075672Z"
        },
        "trusted": true,
        "id": "3Gk9h8ZOVdq1"
      },
      "execution_count": null,
      "outputs": []
    },
    {
      "cell_type": "code",
      "source": [
        "y_pred=SVM_model.predict(X_test)\n",
        "y_pred"
      ],
      "metadata": {
        "execution": {
          "iopub.status.busy": "2024-10-17T01:34:15.078934Z",
          "iopub.execute_input": "2024-10-17T01:34:15.079432Z",
          "iopub.status.idle": "2024-10-17T01:34:15.107576Z",
          "shell.execute_reply.started": "2024-10-17T01:34:15.079376Z",
          "shell.execute_reply": "2024-10-17T01:34:15.106098Z"
        },
        "trusted": true,
        "id": "bqTWs76pVdq1"
      },
      "execution_count": null,
      "outputs": []
    },
    {
      "cell_type": "code",
      "source": [
        "df_testing = pd.read_csv(\"/kaggle/input/titanic/test.csv\")\n",
        "final=pd.DataFrame({'PassengerId':df_testing['PassengerId'],'Survived':y_pred})\n",
        "final"
      ],
      "metadata": {
        "execution": {
          "iopub.status.busy": "2024-10-17T01:34:15.109785Z",
          "iopub.execute_input": "2024-10-17T01:34:15.11029Z",
          "iopub.status.idle": "2024-10-17T01:34:15.130351Z",
          "shell.execute_reply.started": "2024-10-17T01:34:15.110235Z",
          "shell.execute_reply": "2024-10-17T01:34:15.128905Z"
        },
        "trusted": true,
        "id": "6FweC5_JVdq1"
      },
      "execution_count": null,
      "outputs": []
    },
    {
      "cell_type": "code",
      "source": [
        "final.to_csv('submission',index=False)"
      ],
      "metadata": {
        "execution": {
          "iopub.status.busy": "2024-10-17T01:34:15.132553Z",
          "iopub.execute_input": "2024-10-17T01:34:15.133133Z",
          "iopub.status.idle": "2024-10-17T01:34:15.143812Z",
          "shell.execute_reply.started": "2024-10-17T01:34:15.133075Z",
          "shell.execute_reply": "2024-10-17T01:34:15.142293Z"
        },
        "trusted": true,
        "id": "NcqOzeaSVdq1"
      },
      "execution_count": null,
      "outputs": []
    }
  ]
}